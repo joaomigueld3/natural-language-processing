{
  "nbformat": 4,
  "nbformat_minor": 0,
  "metadata": {
    "colab": {
      "provenance": [],
      "authorship_tag": "ABX9TyNGV21+sc9K05hr0dJVwUG4",
      "include_colab_link": true
    },
    "kernelspec": {
      "name": "python3",
      "display_name": "Python 3"
    },
    "language_info": {
      "name": "python"
    }
  },
  "cells": [
    {
      "cell_type": "markdown",
      "metadata": {
        "id": "view-in-github",
        "colab_type": "text"
      },
      "source": [
        "<a href=\"https://colab.research.google.com/github/joaomigueld3/natural-language-processing/blob/main/PLN_Movie_Genre_Classification_Jo%C3%A3o_Miguel.ipynb\" target=\"_parent\"><img src=\"https://colab.research.google.com/assets/colab-badge.svg\" alt=\"Open In Colab\"/></a>"
      ]
    },
    {
      "cell_type": "code",
      "source": [
        "# @title\n",
        "!pip install pandas numpy spacy scikit-learn matplotlib seaborn\n"
      ],
      "metadata": {
        "colab": {
          "base_uri": "https://localhost:8080/"
        },
        "collapsed": true,
        "id": "QlBj-xcvkVSp",
        "outputId": "9fcfcf5e-0b4a-4375-cd1f-39cf9c7bd91d"
      },
      "execution_count": null,
      "outputs": [
        {
          "output_type": "stream",
          "name": "stdout",
          "text": [
            "Requirement already satisfied: pandas in /usr/local/lib/python3.11/dist-packages (2.2.2)\n",
            "Requirement already satisfied: numpy in /usr/local/lib/python3.11/dist-packages (2.0.2)\n",
            "Requirement already satisfied: spacy in /usr/local/lib/python3.11/dist-packages (3.8.5)\n",
            "Requirement already satisfied: scikit-learn in /usr/local/lib/python3.11/dist-packages (1.6.1)\n",
            "Requirement already satisfied: matplotlib in /usr/local/lib/python3.11/dist-packages (3.10.0)\n",
            "Requirement already satisfied: seaborn in /usr/local/lib/python3.11/dist-packages (0.13.2)\n",
            "Requirement already satisfied: python-dateutil>=2.8.2 in /usr/local/lib/python3.11/dist-packages (from pandas) (2.8.2)\n",
            "Requirement already satisfied: pytz>=2020.1 in /usr/local/lib/python3.11/dist-packages (from pandas) (2025.2)\n",
            "Requirement already satisfied: tzdata>=2022.7 in /usr/local/lib/python3.11/dist-packages (from pandas) (2025.2)\n",
            "Requirement already satisfied: spacy-legacy<3.1.0,>=3.0.11 in /usr/local/lib/python3.11/dist-packages (from spacy) (3.0.12)\n",
            "Requirement already satisfied: spacy-loggers<2.0.0,>=1.0.0 in /usr/local/lib/python3.11/dist-packages (from spacy) (1.0.5)\n",
            "Requirement already satisfied: murmurhash<1.1.0,>=0.28.0 in /usr/local/lib/python3.11/dist-packages (from spacy) (1.0.12)\n",
            "Requirement already satisfied: cymem<2.1.0,>=2.0.2 in /usr/local/lib/python3.11/dist-packages (from spacy) (2.0.11)\n",
            "Requirement already satisfied: preshed<3.1.0,>=3.0.2 in /usr/local/lib/python3.11/dist-packages (from spacy) (3.0.9)\n",
            "Requirement already satisfied: thinc<8.4.0,>=8.3.4 in /usr/local/lib/python3.11/dist-packages (from spacy) (8.3.6)\n",
            "Requirement already satisfied: wasabi<1.2.0,>=0.9.1 in /usr/local/lib/python3.11/dist-packages (from spacy) (1.1.3)\n",
            "Requirement already satisfied: srsly<3.0.0,>=2.4.3 in /usr/local/lib/python3.11/dist-packages (from spacy) (2.5.1)\n",
            "Requirement already satisfied: catalogue<2.1.0,>=2.0.6 in /usr/local/lib/python3.11/dist-packages (from spacy) (2.0.10)\n",
            "Requirement already satisfied: weasel<0.5.0,>=0.1.0 in /usr/local/lib/python3.11/dist-packages (from spacy) (0.4.1)\n",
            "Requirement already satisfied: typer<1.0.0,>=0.3.0 in /usr/local/lib/python3.11/dist-packages (from spacy) (0.15.2)\n",
            "Requirement already satisfied: tqdm<5.0.0,>=4.38.0 in /usr/local/lib/python3.11/dist-packages (from spacy) (4.67.1)\n",
            "Requirement already satisfied: requests<3.0.0,>=2.13.0 in /usr/local/lib/python3.11/dist-packages (from spacy) (2.32.3)\n",
            "Requirement already satisfied: pydantic!=1.8,!=1.8.1,<3.0.0,>=1.7.4 in /usr/local/lib/python3.11/dist-packages (from spacy) (2.11.2)\n",
            "Requirement already satisfied: jinja2 in /usr/local/lib/python3.11/dist-packages (from spacy) (3.1.6)\n",
            "Requirement already satisfied: setuptools in /usr/local/lib/python3.11/dist-packages (from spacy) (75.2.0)\n",
            "Requirement already satisfied: packaging>=20.0 in /usr/local/lib/python3.11/dist-packages (from spacy) (24.2)\n",
            "Requirement already satisfied: langcodes<4.0.0,>=3.2.0 in /usr/local/lib/python3.11/dist-packages (from spacy) (3.5.0)\n",
            "Requirement already satisfied: scipy>=1.6.0 in /usr/local/lib/python3.11/dist-packages (from scikit-learn) (1.14.1)\n",
            "Requirement already satisfied: joblib>=1.2.0 in /usr/local/lib/python3.11/dist-packages (from scikit-learn) (1.4.2)\n",
            "Requirement already satisfied: threadpoolctl>=3.1.0 in /usr/local/lib/python3.11/dist-packages (from scikit-learn) (3.6.0)\n",
            "Requirement already satisfied: contourpy>=1.0.1 in /usr/local/lib/python3.11/dist-packages (from matplotlib) (1.3.1)\n",
            "Requirement already satisfied: cycler>=0.10 in /usr/local/lib/python3.11/dist-packages (from matplotlib) (0.12.1)\n",
            "Requirement already satisfied: fonttools>=4.22.0 in /usr/local/lib/python3.11/dist-packages (from matplotlib) (4.57.0)\n",
            "Requirement already satisfied: kiwisolver>=1.3.1 in /usr/local/lib/python3.11/dist-packages (from matplotlib) (1.4.8)\n",
            "Requirement already satisfied: pillow>=8 in /usr/local/lib/python3.11/dist-packages (from matplotlib) (11.1.0)\n",
            "Requirement already satisfied: pyparsing>=2.3.1 in /usr/local/lib/python3.11/dist-packages (from matplotlib) (3.2.3)\n",
            "Requirement already satisfied: language-data>=1.2 in /usr/local/lib/python3.11/dist-packages (from langcodes<4.0.0,>=3.2.0->spacy) (1.3.0)\n",
            "Requirement already satisfied: annotated-types>=0.6.0 in /usr/local/lib/python3.11/dist-packages (from pydantic!=1.8,!=1.8.1,<3.0.0,>=1.7.4->spacy) (0.7.0)\n",
            "Requirement already satisfied: pydantic-core==2.33.1 in /usr/local/lib/python3.11/dist-packages (from pydantic!=1.8,!=1.8.1,<3.0.0,>=1.7.4->spacy) (2.33.1)\n",
            "Requirement already satisfied: typing-extensions>=4.12.2 in /usr/local/lib/python3.11/dist-packages (from pydantic!=1.8,!=1.8.1,<3.0.0,>=1.7.4->spacy) (4.13.1)\n",
            "Requirement already satisfied: typing-inspection>=0.4.0 in /usr/local/lib/python3.11/dist-packages (from pydantic!=1.8,!=1.8.1,<3.0.0,>=1.7.4->spacy) (0.4.0)\n",
            "Requirement already satisfied: six>=1.5 in /usr/local/lib/python3.11/dist-packages (from python-dateutil>=2.8.2->pandas) (1.17.0)\n",
            "Requirement already satisfied: charset-normalizer<4,>=2 in /usr/local/lib/python3.11/dist-packages (from requests<3.0.0,>=2.13.0->spacy) (3.4.1)\n",
            "Requirement already satisfied: idna<4,>=2.5 in /usr/local/lib/python3.11/dist-packages (from requests<3.0.0,>=2.13.0->spacy) (3.10)\n",
            "Requirement already satisfied: urllib3<3,>=1.21.1 in /usr/local/lib/python3.11/dist-packages (from requests<3.0.0,>=2.13.0->spacy) (2.3.0)\n",
            "Requirement already satisfied: certifi>=2017.4.17 in /usr/local/lib/python3.11/dist-packages (from requests<3.0.0,>=2.13.0->spacy) (2025.1.31)\n",
            "Requirement already satisfied: blis<1.4.0,>=1.3.0 in /usr/local/lib/python3.11/dist-packages (from thinc<8.4.0,>=8.3.4->spacy) (1.3.0)\n",
            "Requirement already satisfied: confection<1.0.0,>=0.0.1 in /usr/local/lib/python3.11/dist-packages (from thinc<8.4.0,>=8.3.4->spacy) (0.1.5)\n",
            "Requirement already satisfied: click>=8.0.0 in /usr/local/lib/python3.11/dist-packages (from typer<1.0.0,>=0.3.0->spacy) (8.1.8)\n",
            "Requirement already satisfied: shellingham>=1.3.0 in /usr/local/lib/python3.11/dist-packages (from typer<1.0.0,>=0.3.0->spacy) (1.5.4)\n",
            "Requirement already satisfied: rich>=10.11.0 in /usr/local/lib/python3.11/dist-packages (from typer<1.0.0,>=0.3.0->spacy) (13.9.4)\n",
            "Requirement already satisfied: cloudpathlib<1.0.0,>=0.7.0 in /usr/local/lib/python3.11/dist-packages (from weasel<0.5.0,>=0.1.0->spacy) (0.21.0)\n",
            "Requirement already satisfied: smart-open<8.0.0,>=5.2.1 in /usr/local/lib/python3.11/dist-packages (from weasel<0.5.0,>=0.1.0->spacy) (7.1.0)\n",
            "Requirement already satisfied: MarkupSafe>=2.0 in /usr/local/lib/python3.11/dist-packages (from jinja2->spacy) (3.0.2)\n",
            "Requirement already satisfied: marisa-trie>=1.1.0 in /usr/local/lib/python3.11/dist-packages (from language-data>=1.2->langcodes<4.0.0,>=3.2.0->spacy) (1.2.1)\n",
            "Requirement already satisfied: markdown-it-py>=2.2.0 in /usr/local/lib/python3.11/dist-packages (from rich>=10.11.0->typer<1.0.0,>=0.3.0->spacy) (3.0.0)\n",
            "Requirement already satisfied: pygments<3.0.0,>=2.13.0 in /usr/local/lib/python3.11/dist-packages (from rich>=10.11.0->typer<1.0.0,>=0.3.0->spacy) (2.18.0)\n",
            "Requirement already satisfied: wrapt in /usr/local/lib/python3.11/dist-packages (from smart-open<8.0.0,>=5.2.1->weasel<0.5.0,>=0.1.0->spacy) (1.17.2)\n",
            "Requirement already satisfied: mdurl~=0.1 in /usr/local/lib/python3.11/dist-packages (from markdown-it-py>=2.2.0->rich>=10.11.0->typer<1.0.0,>=0.3.0->spacy) (0.1.2)\n"
          ]
        }
      ]
    },
    {
      "cell_type": "code",
      "execution_count": 1,
      "metadata": {
        "id": "p169Nn70Vav_"
      },
      "outputs": [],
      "source": [
        "# @title\n",
        "import pandas as pd\n",
        "import numpy as np\n",
        "import spacy\n",
        "import seaborn as sns\n",
        "import matplotlib.pyplot as plt\n",
        "from sklearn.feature_extraction.text import TfidfVectorizer\n",
        "from sklearn.model_selection import train_test_split\n",
        "from sklearn.naive_bayes import MultinomialNB\n",
        "from sklearn.metrics import accuracy_score, classification_report, confusion_matrix\n",
        "from sklearn.ensemble import RandomForestClassifier\n"
      ]
    },
    {
      "cell_type": "code",
      "source": [
        "# @title\n",
        "from google.colab import drive\n",
        "drive.mount('/content/drive')"
      ],
      "metadata": {
        "colab": {
          "base_uri": "https://localhost:8080/"
        },
        "id": "STf8FO0EYsgv",
        "outputId": "84cf4c47-5d7f-46e3-a8e2-55e014ed1cc3"
      },
      "execution_count": 2,
      "outputs": [
        {
          "output_type": "stream",
          "name": "stdout",
          "text": [
            "Mounted at /content/drive\n"
          ]
        }
      ]
    },
    {
      "cell_type": "code",
      "source": [
        "# @title\n",
        "# df = pd.read_csv('/content/drive/MyDrive/DatasetsColab/movies_overview.csv')\n",
        "df = pd.read_csv('/content/drive/MyDrive/DatasetsColab/movies_overview.csv', sep=\",\", header=0)"
      ],
      "metadata": {
        "id": "MD8yeumPVxCr"
      },
      "execution_count": 3,
      "outputs": []
    },
    {
      "cell_type": "code",
      "source": [
        "genres_df = pd.read_csv('/content/drive/MyDrive/DatasetsColab/movies_genres.csv')"
      ],
      "metadata": {
        "id": "Mhzjf8IXWfBO"
      },
      "execution_count": 11,
      "outputs": []
    },
    {
      "cell_type": "code",
      "source": [
        "# @title\n",
        "# Visualizing first lines\n",
        "print('movies:', df.head())\n",
        "print('\\ngenres:', genres_df.head())"
      ],
      "metadata": {
        "colab": {
          "base_uri": "https://localhost:8080/"
        },
        "id": "IVtQb_SObc2x",
        "outputId": "f96451b8-2f07-4571-d61b-51c2ba279353"
      },
      "execution_count": 21,
      "outputs": [
        {
          "output_type": "stream",
          "name": "stdout",
          "text": [
            "movies:                       title  \\\n",
            "0  The Shawshank Redemption   \n",
            "1             The Godfather   \n",
            "2     The Godfather Part II   \n",
            "3          Schindler's List   \n",
            "4              12 Angry Men   \n",
            "\n",
            "                                            overview        genre_ids  \n",
            "0  Imprisoned in the 1940s for the double murder ...         [18, 80]  \n",
            "1  Spanning the years 1945 to 1955, a chronicle o...         [18, 80]  \n",
            "2  In the continuing saga of the Corleone crime f...         [18, 80]  \n",
            "3  The true story of how businessman Oskar Schind...  [18, 36, 10752]  \n",
            "4  The defense and the prosecution have rested an...             [18]  \n",
            "\n",
            "genres:    id       name\n",
            "0  28     Action\n",
            "1  12  Adventure\n",
            "2  16  Animation\n",
            "3  35     Comedy\n",
            "4  80      Crime\n"
          ]
        }
      ]
    },
    {
      "cell_type": "code",
      "source": [
        "print('movies:', df.columns)\n",
        "print('genre:', genres_df.columns)"
      ],
      "metadata": {
        "colab": {
          "base_uri": "https://localhost:8080/"
        },
        "id": "7VadJWVPi4PD",
        "outputId": "4b7a5320-b062-49fd-9d77-f371f97c9ecf"
      },
      "execution_count": 22,
      "outputs": [
        {
          "output_type": "stream",
          "name": "stdout",
          "text": [
            "movies: Index(['title', 'overview', 'genre_ids'], dtype='object')\n",
            "genre: Index(['id', 'name'], dtype='object')\n"
          ]
        }
      ]
    },
    {
      "cell_type": "code",
      "source": [
        "# Cria o dicionário de mapeamento\n",
        "genre_map = dict(zip(genres_df['id'], genres_df['name']))\n",
        "print('genre dict:',genre_map)"
      ],
      "metadata": {
        "colab": {
          "base_uri": "https://localhost:8080/"
        },
        "id": "kRt1gWt6XKUZ",
        "outputId": "c1859c7a-868b-4f54-e9e7-1e2db653c812"
      },
      "execution_count": 16,
      "outputs": [
        {
          "output_type": "stream",
          "name": "stdout",
          "text": [
            "genre dict: {28: 'Action', 12: 'Adventure', 16: 'Animation', 35: 'Comedy', 80: 'Crime', 99: 'Documentary', 18: 'Drama', 10751: 'Family', 14: 'Fantasy', 36: 'History', 27: 'Horror', 10402: 'Music', 9648: 'Mystery', 10749: 'Romance', 878: 'Science Fiction', 10770: 'TV Movie', 53: 'Thriller', 10752: 'War', 37: 'Western'}\n"
          ]
        }
      ]
    },
    {
      "cell_type": "code",
      "source": [
        "import ast  # para transformar string '[28, 12]' em lista [28, 12]\n",
        "\n",
        "# Função para mapear ids para nomes\n",
        "def map_genre_ids_to_names(genre_ids_str):\n",
        "    try:\n",
        "        genre_ids = ast.literal_eval(genre_ids_str)\n",
        "        return [genre_map.get(genre_id, \"Unknown\") for genre_id in genre_ids]\n",
        "    except:\n",
        "        return []\n",
        "\n",
        "# Cria nova coluna com nomes dos gêneros\n",
        "df['genre_names'] = df['genre_ids'].apply(map_genre_ids_to_names)\n",
        "\n",
        "# Visualiza\n",
        "print(df[['title', 'genre_ids', 'genre_names']].head())\n"
      ],
      "metadata": {
        "colab": {
          "base_uri": "https://localhost:8080/"
        },
        "id": "VFCrTYmJbAr0",
        "outputId": "a9d97a2d-94c5-43c6-8f57-19cb3bef3741"
      },
      "execution_count": 26,
      "outputs": [
        {
          "output_type": "stream",
          "name": "stdout",
          "text": [
            "                      title        genre_ids            genre_names\n",
            "0  The Shawshank Redemption         [18, 80]         [Drama, Crime]\n",
            "1             The Godfather         [18, 80]         [Drama, Crime]\n",
            "2     The Godfather Part II         [18, 80]         [Drama, Crime]\n",
            "3          Schindler's List  [18, 36, 10752]  [Drama, History, War]\n",
            "4              12 Angry Men             [18]                [Drama]\n"
          ]
        }
      ]
    },
    {
      "cell_type": "code",
      "source": [
        "# @title\n",
        "# Check about data types and null values\n",
        "print(df.info())"
      ],
      "metadata": {
        "colab": {
          "base_uri": "https://localhost:8080/"
        },
        "id": "70A1wclRbq1s",
        "outputId": "04d62101-392f-4490-b9d6-18dacfd39f93"
      },
      "execution_count": 30,
      "outputs": [
        {
          "output_type": "stream",
          "name": "stdout",
          "text": [
            "<class 'pandas.core.frame.DataFrame'>\n",
            "RangeIndex: 9980 entries, 0 to 9979\n",
            "Data columns (total 4 columns):\n",
            " #   Column       Non-Null Count  Dtype \n",
            "---  ------       --------------  ----- \n",
            " 0   title        9980 non-null   object\n",
            " 1   overview     9980 non-null   object\n",
            " 2   genre_ids    9980 non-null   object\n",
            " 3   genre_names  9980 non-null   object\n",
            "dtypes: object(4)\n",
            "memory usage: 312.0+ KB\n",
            "None\n"
          ]
        }
      ]
    },
    {
      "cell_type": "markdown",
      "source": [],
      "metadata": {
        "id": "9lA0HAl1g4j_"
      }
    },
    {
      "cell_type": "code",
      "source": [
        "# @title\n",
        "# Descriptive Statistics\n",
        "print(df.describe())"
      ],
      "metadata": {
        "colab": {
          "base_uri": "https://localhost:8080/"
        },
        "id": "Gpl_c_iFc523",
        "outputId": "c72f87d7-0924-4d60-d34d-e018466f93af"
      },
      "execution_count": 39,
      "outputs": [
        {
          "output_type": "stream",
          "name": "stdout",
          "text": [
            "         title                                           overview genre_ids  \\\n",
            "count     9980                                               9980      9980   \n",
            "unique    9615                                               9971      2222   \n",
            "top     Return  Young businessman Thomas Crown is bored and de...      [18]   \n",
            "freq        13                                                  2       577   \n",
            "\n",
            "       genre_names  \n",
            "count         9980  \n",
            "unique        2222  \n",
            "top        [Drama]  \n",
            "freq           577  \n"
          ]
        }
      ]
    },
    {
      "cell_type": "code",
      "source": [
        "# @title\n",
        "# Checking for Null Values\n",
        "print(df.isnull().sum())"
      ],
      "metadata": {
        "colab": {
          "base_uri": "https://localhost:8080/"
        },
        "id": "lQYJ759heHrc",
        "outputId": "9571799d-5889-456d-cb77-db3047c62212"
      },
      "execution_count": 32,
      "outputs": [
        {
          "output_type": "stream",
          "name": "stdout",
          "text": [
            "title          0\n",
            "overview       0\n",
            "genre_ids      0\n",
            "genre_names    0\n",
            "dtype: int64\n"
          ]
        }
      ]
    },
    {
      "cell_type": "code",
      "source": [
        "# @title\n",
        "# Remove spaces from column names\n",
        "df.columns = df.columns.str.strip()\n",
        "print(df.columns)"
      ],
      "metadata": {
        "colab": {
          "base_uri": "https://localhost:8080/"
        },
        "id": "m9BEvE7VgvKk",
        "outputId": "cc3b0b52-b7b4-4fce-b366-682a47ce7f43"
      },
      "execution_count": 41,
      "outputs": [
        {
          "output_type": "stream",
          "name": "stdout",
          "text": [
            "Index(['title', 'overview', 'genre_ids', 'genre_names'], dtype='object')\n"
          ]
        }
      ]
    },
    {
      "cell_type": "markdown",
      "source": [
        "### Exploratory Data Analysis (EDA) - Análise Exploratória de Dados"
      ],
      "metadata": {
        "id": "vQLHDkw_e31r"
      }
    },
    {
      "cell_type": "code",
      "source": [
        "# Remove valores nulos ou vazios antes de contar\n",
        "genre_exploded = df.explode('genre_names')\n",
        "genre_exploded = genre_exploded[genre_exploded['genre_names'].notna() & (genre_exploded['genre_names'] != '')]\n",
        "\n",
        "# Garante que os rótulos sejam únicos na ordenação\n",
        "genre_counts = genre_exploded['genre_names'].value_counts().reset_index()\n",
        "genre_counts.columns = ['genre_names', 'count']\n",
        "\n",
        "# Gráfico corrigido\n",
        "plt.figure(figsize=(12,6))\n",
        "sns.countplot(data=genre_exploded, x='genre_names', order=genre_counts['genre_names'])\n",
        "plt.title('Distribuição de Gêneros de Filmes')\n",
        "plt.xticks(rotation=45)\n",
        "plt.tight_layout()\n",
        "plt.show()\n"
      ],
      "metadata": {
        "colab": {
          "base_uri": "https://localhost:8080/",
          "height": 607
        },
        "id": "kSFpQ3IriQSB",
        "outputId": "393f3c94-cf35-4acb-9508-4918690c883c"
      },
      "execution_count": 42,
      "outputs": [
        {
          "output_type": "display_data",
          "data": {
            "text/plain": [
              "<Figure size 1200x600 with 1 Axes>"
            ],
            "image/png": "[encoded data removed]"
          },
          "metadata": {}
        }
      ]
    },
    {
      "cell_type": "markdown",
      "source": [
        "Aqui vemos quais gêneros aparecem com mais frequência. Isso é importante para evitar desbalanceamento de classes no modelo de machine learning."
      ],
      "metadata": {
        "id": "1QqAZa6OrybY"
      }
    },
    {
      "cell_type": "markdown",
      "source": [],
      "metadata": {
        "id": "UAYMohJ_qq7f"
      }
    },
    {
      "cell_type": "code",
      "source": [
        "df['num_genres'] = df['genre_names'].apply(len)\n",
        "plt.figure(figsize=(8,4))\n",
        "sns.histplot(df['num_genres'], bins=range(1, df['num_genres'].max()+2), discrete=True)\n",
        "plt.title(\"Distribuição da Quantidade de Gêneros por Filme\")\n",
        "plt.xlabel(\"Quantidade de Gêneros\")\n",
        "plt.ylabel(\"Número de Filmes\")\n",
        "plt.show()\n"
      ],
      "metadata": {
        "colab": {
          "base_uri": "https://localhost:8080/",
          "height": 411
        },
        "id": "ITCAHpAdqv_Z",
        "outputId": "9c4b6419-35be-4adb-8e30-c7c1b0d21077"
      },
      "execution_count": 43,
      "outputs": [
        {
          "output_type": "display_data",
          "data": {
            "text/plain": [
              "<Figure size 800x400 with 1 Axes>"
            ],
            "image/png": "[encoded data removed]"
          },
          "metadata": {}
        }
      ]
    },
    {
      "cell_type": "markdown",
      "source": [
        "A maioria dos filmes tem entre 1 e 3 gêneros. Filmes com muitos gêneros são menos comuns."
      ],
      "metadata": {
        "id": "VtLBZ5DCqzUW"
      }
    },
    {
      "cell_type": "code",
      "source": [
        "df['overview_length'] = df['overview'].apply(lambda x: len(str(x).split()))\n",
        "plt.figure(figsize=(8,4))\n",
        "sns.histplot(df['overview_length'], bins=30)\n",
        "plt.title(\"Distribuição do Tamanho dos Overviews (em palavras)\")\n",
        "plt.xlabel(\"Número de Palavras\")\n",
        "plt.ylabel(\"Número de Filmes\")\n",
        "plt.show()\n"
      ],
      "metadata": {
        "colab": {
          "base_uri": "https://localhost:8080/",
          "height": 410
        },
        "id": "6s4__NAYs93A",
        "outputId": "90766131-b6f9-4007-de02-e86dd4bd87fe"
      },
      "execution_count": 44,
      "outputs": [
        {
          "output_type": "display_data",
          "data": {
            "text/plain": [
              "<Figure size 800x400 with 1 Axes>"
            ],
            "image/png": "[encoded data removed]"
          },
          "metadata": {}
        }
      ]
    },
    {
      "cell_type": "markdown",
      "source": [
        "A maioria dos overviews tem entre 30 e 120 palavras. Importante para avaliar o impacto do TfidfVectorizer."
      ],
      "metadata": {
        "id": "Clk-0GgitE2g"
      }
    },
    {
      "cell_type": "markdown",
      "source": [
        "## Preprocessing with SpaCy"
      ],
      "metadata": {
        "id": "Bpi9niBJi38z"
      }
    },
    {
      "cell_type": "code",
      "source": [
        "# @title\n",
        "# Baixar modelo do SpaCy para inglês\n",
        "import spacy\n",
        "nlp = spacy.load('en_core_web_sm')\n",
        "\n",
        "# Função para pré-processamento\n",
        "def preprocess(text):\n",
        "    doc = nlp(text.lower())  # Converter para minúsculas\n",
        "    return \" \".join([token.lemma_ for token in doc if not token.is_punct and not token.is_stop])\n",
        "\n",
        "# Aplicar pré-processamento ao dataset\n",
        "df[\"text_processed\"] = df[\"overview\"].apply(preprocess)\n",
        "\n",
        "# Visualizar os dados processados\n",
        "print(df[[\"overview\", \"text_processed\"]].head())\n"
      ],
      "metadata": {
        "colab": {
          "base_uri": "https://localhost:8080/"
        },
        "id": "nL1hQhIji87E",
        "outputId": "c5c87180-f2bc-4b92-984d-f09f70e73e2d",
        "collapsed": true
      },
      "execution_count": 51,
      "outputs": [
        {
          "output_type": "stream",
          "name": "stdout",
          "text": [
            "                                            overview  \\\n",
            "0  Imprisoned in the 1940s for the double murder ...   \n",
            "1  Spanning the years 1945 to 1955, a chronicle o...   \n",
            "2  In the continuing saga of the Corleone crime f...   \n",
            "3  The true story of how businessman Oskar Schind...   \n",
            "4  The defense and the prosecution have rested an...   \n",
            "\n",
            "                                      text_processed  \n",
            "0  imprison 1940 double murder wife lover upstand...  \n",
            "1  span year 1945 1955 chronicle fictional italia...  \n",
            "2  continue saga corleone crime family young vito...  \n",
            "3  true story businessman oskar schindler save th...  \n",
            "4  defense prosecution rest jury file jury room d...  \n"
          ]
        }
      ]
    },
    {
      "cell_type": "markdown",
      "source": [
        "### Extrair gênero principal"
      ],
      "metadata": {
        "id": "pS6xCsjX0eIC"
      }
    },
    {
      "cell_type": "code",
      "source": [
        "df['main_genre'] = df['genre_names'].apply(lambda x: x[0] if isinstance(x, list) and len(x) > 0 else 'Unknown')\n",
        "\n",
        "# Remover entradas sem gênero conhecido\n",
        "df = df[df['main_genre'] != 'Unknown']"
      ],
      "metadata": {
        "id": "VjIwkKMC0ZH-"
      },
      "execution_count": 54,
      "outputs": []
    },
    {
      "cell_type": "markdown",
      "source": [
        "## Convert text to TF-IDF vectors"
      ],
      "metadata": {
        "id": "bGfaaFDBjxTY"
      }
    },
    {
      "cell_type": "code",
      "source": [
        "from sklearn.feature_extraction.text import TfidfVectorizer\n",
        "\n",
        "vectorizer = TfidfVectorizer(max_features=5000)\n",
        "X = vectorizer.fit_transform(df[\"text_processed\"])\n",
        "y = df[\"main_genre\"]\n",
        "\n",
        "# Converter os rótulos em valores numéricos\n",
        "y = df[\"title\"]\n",
        "\n",
        "# Exibir algumas palavras do vocabulário TF-IDF\n",
        "print(\"Palavras no vocabulário:\", vectorizer.get_feature_names_out()[:100])\n"
      ],
      "metadata": {
        "colab": {
          "base_uri": "https://localhost:8080/"
        },
        "id": "naRB43AC0vwP",
        "outputId": "86312e96-df0b-4044-d630-9b71eb46c49e"
      },
      "execution_count": 56,
      "outputs": [
        {
          "output_type": "stream",
          "name": "stdout",
          "text": [
            "Palavras no vocabulário: ['000' '10' '100' '11' '12' '13' '14' '15' '16' '16th' '17' '17th' '18'\n",
            " '1890s' '18th' '19' '1920s' '1930' '1930s' '1940' '1941' '1942' '1943'\n",
            " '1944' '1945' '1950' '1950s' '1957' '1959' '1960' '1962' '1963' '1964'\n",
            " '1965' '1967' '1969' '1970' '1970s' '1971' '1972' '1973' '1976' '1977'\n",
            " '1978' '1979' '1980' '1980s' '1984' '1987' '1988' '1990' '1991' '1999'\n",
            " '19th' '20' '200' '2008' '2009' '20th' '21' '21st' '22' '23' '24' '25'\n",
            " '26' '27' '28' '30' '300' '35' '40' '400' '47' '50' '500' '60' '70' '80'\n",
            " '90' 'aaron' 'abandon' 'abby' 'abduct' 'abduction' 'ability' 'able'\n",
            " 'aboard' 'abroad' 'abruptly' 'absence' 'absent' 'absorb' 'abuse'\n",
            " 'abusive' 'academic' 'academy' 'accept' 'access' 'accident']\n"
          ]
        }
      ]
    },
    {
      "cell_type": "code",
      "source": [
        "df = df[df['main_genre'] != 'Unknown']"
      ],
      "metadata": {
        "id": "ivUXh6dIySo4"
      },
      "execution_count": 49,
      "outputs": []
    },
    {
      "cell_type": "code",
      "source": [
        "# @title\n",
        "# Imprime a representação TF-IDF do corpus\n",
        "print(\"Matriz TF-IDF:\")\n",
        "print(X.toarray())"
      ],
      "metadata": {
        "colab": {
          "base_uri": "https://localhost:8080/"
        },
        "id": "6WGCXF9Zlun3",
        "outputId": "5316891e-4b12-4d49-b98b-2b217a20fadb"
      },
      "execution_count": 60,
      "outputs": [
        {
          "output_type": "stream",
          "name": "stdout",
          "text": [
            "Matriz TF-IDF:\n",
            "[[0. 0. 0. ... 0. 0. 0.]\n",
            " [0. 0. 0. ... 0. 0. 0.]\n",
            " [0. 0. 0. ... 0. 0. 0.]\n",
            " ...\n",
            " [0. 0. 0. ... 0. 0. 0.]\n",
            " [0. 0. 0. ... 0. 0. 0.]\n",
            " [0. 0. 0. ... 0. 0. 0.]]\n"
          ]
        }
      ]
    },
    {
      "cell_type": "code",
      "source": [
        "# @title\n",
        "num_palavras = len(vectorizer.get_feature_names_out())\n",
        "print(num_palavras)"
      ],
      "metadata": {
        "colab": {
          "base_uri": "https://localhost:8080/"
        },
        "id": "LPklWuuUl-8N",
        "outputId": "d031fc84-9e45-414a-c0a6-38b15213cafd"
      },
      "execution_count": 64,
      "outputs": [
        {
          "output_type": "stream",
          "name": "stdout",
          "text": [
            "5000\n"
          ]
        }
      ]
    },
    {
      "cell_type": "code",
      "source": [
        "# @title\n",
        "import numpy as np  # Certifique-se de importar numpy\n",
        "import matplotlib.pyplot as plt\n",
        "\n",
        "# Visualizar os valores TF-IDF\n",
        "# Vamos identificar as palavras mais relevantes do corpus usando TF-IDF\n",
        "def plot_tfidf(matrix, feature_names, top_n=10):\n",
        "    # Calcula a soma das pontuações TF-IDF para cada palavra\n",
        "    tfidf_sums = np.array(matrix.sum(axis=0)).flatten()\n",
        "    top_indices = tfidf_sums.argsort()[-top_n:][::-1]\n",
        "\n",
        "    # Palavras mais relevantes\n",
        "    top_words = [feature_names[i] for i in top_indices]\n",
        "    top_scores = tfidf_sums[top_indices]\n",
        "\n",
        "    # Criar o gráfico de barras\n",
        "    plt.figure(figsize=(10, 6))\n",
        "    plt.barh(top_words, top_scores, align='center')\n",
        "    plt.gca().invert_yaxis()  # Inverter o eixo y para mostrar os scores em ordem decrescente\n",
        "    plt.title(\"Top Palavras com Pontuações TF-IDF\")\n",
        "    plt.xlabel(\"Pontuação TF-IDF\")\n",
        "    plt.ylabel(\"Palavras\")\n",
        "    plt.show()\n",
        "\n",
        "# Visualizar palavras mais relevantes no corpus\n",
        "plot_tfidf(X, vectorizer.get_feature_names_out(), top_n=10)"
      ],
      "metadata": {
        "colab": {
          "base_uri": "https://localhost:8080/",
          "height": 564
        },
        "id": "N7mu3q1emFLi",
        "outputId": "cb0bc424-64f0-4efa-de33-aa8944b4ab0b"
      },
      "execution_count": 65,
      "outputs": [
        {
          "output_type": "display_data",
          "data": {
            "text/plain": [
              "<Figure size 1000x600 with 1 Axes>"
            ],
            "image/png": "[encoded data removed]"
          },
          "metadata": {}
        }
      ]
    },
    {
      "cell_type": "code",
      "source": [
        "from collections import Counter\n",
        "import matplotlib.pyplot as plt\n",
        "\n",
        "# Função para contar as palavras mais frequentes no corpus\n",
        "def plot_word_frequency(corpus_processed, top_n=10):\n",
        "    # Unir todos os documentos do corpus em um único texto\n",
        "    all_words = \" \".join(corpus_processed).split()\n",
        "\n",
        "    # Contar a frequência de cada palavra\n",
        "    word_counts = Counter(all_words)\n",
        "\n",
        "    # Selecionar as palavras mais frequentes\n",
        "    most_common = word_counts.most_common(top_n)\n",
        "    top_words = [word for word, count in most_common]\n",
        "    top_counts = [count for word, count in most_common]\n",
        "\n",
        "    # Criar o gráfico de barras\n",
        "    plt.figure(figsize=(10, 6))\n",
        "    plt.barh(top_words, top_counts, align='center')\n",
        "    plt.gca().invert_yaxis()  # Inverter o eixo y para mostrar as palavras em ordem decrescente\n",
        "    plt.title(\"Top Palavras Mais Frequentes\")\n",
        "    plt.xlabel(\"Frequência Absoluta\")\n",
        "    plt.ylabel(\"Palavras\")\n",
        "    plt.show()\n",
        "\n",
        "# Chamando a função para exibir as palavras mais frequentes\n",
        "plot_word_frequency(df[\"text_processed\"], top_n=10)"
      ],
      "metadata": {
        "colab": {
          "base_uri": "https://localhost:8080/",
          "height": 565
        },
        "id": "GJlbrYYrmKce",
        "outputId": "7f271470-ea42-4944-ef28-910109eb7f73"
      },
      "execution_count": 66,
      "outputs": [
        {
          "output_type": "display_data",
          "data": {
            "text/plain": [
              "<Figure size 1000x600 with 1 Axes>"
            ],
            "image/png": "[encoded data removed]"
          },
          "metadata": {}
        }
      ]
    },
    {
      "cell_type": "markdown",
      "source": [
        "## Split Data for Training and Testing"
      ],
      "metadata": {
        "id": "hnOyK_Ymj2JT"
      }
    },
    {
      "cell_type": "code",
      "source": [
        "# Dividir em treino e teste\n",
        "from sklearn.model_selection import train_test_split\n",
        "X_train, X_test, y_train, y_test = train_test_split(X, y, test_size=0.2, random_state=42)\n",
        "print(f\"Tamanho do conjunto de treino: {X_train.shape}\")\n",
        "print(f\"Tamanho do conjunto de teste: {X_test.shape}\")\n"
      ],
      "metadata": {
        "colab": {
          "base_uri": "https://localhost:8080/"
        },
        "id": "Wt8dTzuFxywT",
        "outputId": "223a2ba6-9339-4667-ea0e-5a55721a3311"
      },
      "execution_count": 63,
      "outputs": [
        {
          "output_type": "stream",
          "name": "stdout",
          "text": [
            "Tamanho do conjunto de treino: (7981, 5000)\n",
            "Tamanho do conjunto de teste: (1996, 5000)\n"
          ]
        }
      ]
    },
    {
      "cell_type": "markdown",
      "source": [
        "## Training a Machine Learning Model\n"
      ],
      "metadata": {
        "id": "1b69aJKRlDwK"
      }
    },
    {
      "cell_type": "code",
      "source": [
        "from sklearn.naive_bayes import MultinomialNB\n",
        "from sklearn.linear_model import LogisticRegression\n",
        "from sklearn.ensemble import RandomForestClassifier\n",
        "from sklearn.svm import LinearSVC\n",
        "from sklearn.metrics import accuracy_score, classification_report\n",
        "from sklearn.feature_extraction.text import TfidfVectorizer\n",
        "from sklearn.model_selection import train_test_split\n",
        "\n",
        "# Separar os dados\n",
        "X_train, X_test, y_train, y_test = train_test_split(\n",
        "    df['text_processed'], df['main_genre'], test_size=0.2, random_state=42)"
      ],
      "metadata": {
        "id": "jrioUIK93UHl"
      },
      "execution_count": null,
      "outputs": []
    },
    {
      "cell_type": "code",
      "source": [
        "# Dicionário de modelos\n",
        "models = {\n",
        "    'Naive Bayes': MultinomialNB(),\n",
        "    'Logistic Regression': LogisticRegression(max_iter=1000),\n",
        "    'Support Vector Machine': LinearSVC(),\n",
        "    'Random Forest': RandomForestClassifier()\n",
        "}\n",
        "\n",
        "# Inicializando o vetor TF-IDF\n",
        "vectorizer = TfidfVectorizer(stop_words='english', max_df=0.7)\n",
        "\n",
        "# Ajustando e transformando os dados de treinamento\n",
        "X_train_tfidf = vectorizer.fit_transform(X_train)\n",
        "\n",
        "# Transformando os dados de teste\n",
        "X_test_tfidf = vectorizer.transform(X_test)\n",
        "\n",
        "# Treinando e avaliando cada modelo\n",
        "for name, model in models.items():\n",
        "    print(f\"Treinando modelo: {name}\")\n",
        "\n",
        "    # Treinamento\n",
        "    model.fit(X_train_tfidf, y_train)\n",
        "\n",
        "    # Predição\n",
        "    y_pred = model.predict(X_test_tfidf)\n",
        "\n",
        "    # Avaliação\n",
        "    accuracy = accuracy_score(y_test, y_pred)\n",
        "    print(f'{name} - Acurácia: {accuracy:.2f}')\n",
        "    print(classification_report(y_test, y_pred))\n",
        "    print(\"\\n\" + \"=\"*60 + \"\\n\")\n"
      ],
      "metadata": {
        "colab": {
          "base_uri": "https://localhost:8080/"
        },
        "id": "inttKktA2kMi",
        "outputId": "a3dd9b53-10ee-4181-8e44-18d1d3bd81ee"
      },
      "execution_count": 71,
      "outputs": [
        {
          "output_type": "stream",
          "name": "stdout",
          "text": [
            "Treinando modelo: Naive Bayes\n",
            "Naive Bayes - Acurácia: 0.36\n",
            "                 precision    recall  f1-score   support\n",
            "\n",
            "         Action       0.50      0.36      0.42       287\n",
            "      Adventure       0.00      0.00      0.00       103\n",
            "      Animation       0.00      0.00      0.00       127\n",
            "         Comedy       0.41      0.65      0.50       395\n",
            "          Crime       0.00      0.00      0.00        84\n",
            "          Drama       0.31      0.84      0.45       426\n",
            "         Family       0.00      0.00      0.00        50\n",
            "        Fantasy       0.00      0.00      0.00        44\n",
            "        History       0.00      0.00      0.00        11\n",
            "         Horror       0.67      0.05      0.09       167\n",
            "          Music       0.00      0.00      0.00        16\n",
            "        Mystery       0.00      0.00      0.00        29\n",
            "        Romance       0.00      0.00      0.00        66\n",
            "Science Fiction       0.00      0.00      0.00        56\n",
            "       TV Movie       0.00      0.00      0.00         1\n",
            "       Thriller       0.00      0.00      0.00       105\n",
            "            War       0.00      0.00      0.00        10\n",
            "        Western       0.00      0.00      0.00        19\n",
            "\n",
            "       accuracy                           0.36      1996\n",
            "      macro avg       0.11      0.11      0.08      1996\n",
            "   weighted avg       0.28      0.36      0.26      1996\n",
            "\n",
            "\n",
            "============================================================\n",
            "\n",
            "Treinando modelo: Logistic Regression\n"
          ]
        },
        {
          "output_type": "stream",
          "name": "stderr",
          "text": [
            "/usr/local/lib/python3.11/dist-packages/sklearn/metrics/_classification.py:1565: UndefinedMetricWarning: Precision is ill-defined and being set to 0.0 in labels with no predicted samples. Use `zero_division` parameter to control this behavior.\n",
            "  _warn_prf(average, modifier, f\"{metric.capitalize()} is\", len(result))\n",
            "/usr/local/lib/python3.11/dist-packages/sklearn/metrics/_classification.py:1565: UndefinedMetricWarning: Precision is ill-defined and being set to 0.0 in labels with no predicted samples. Use `zero_division` parameter to control this behavior.\n",
            "  _warn_prf(average, modifier, f\"{metric.capitalize()} is\", len(result))\n",
            "/usr/local/lib/python3.11/dist-packages/sklearn/metrics/_classification.py:1565: UndefinedMetricWarning: Precision is ill-defined and being set to 0.0 in labels with no predicted samples. Use `zero_division` parameter to control this behavior.\n",
            "  _warn_prf(average, modifier, f\"{metric.capitalize()} is\", len(result))\n"
          ]
        },
        {
          "output_type": "stream",
          "name": "stdout",
          "text": [
            "Logistic Regression - Acurácia: 0.43\n",
            "                 precision    recall  f1-score   support\n",
            "\n",
            "         Action       0.42      0.56      0.48       287\n",
            "      Adventure       0.33      0.06      0.10       103\n",
            "      Animation       0.47      0.14      0.22       127\n",
            "         Comedy       0.44      0.72      0.55       395\n",
            "          Crime       0.20      0.05      0.08        84\n",
            "          Drama       0.41      0.72      0.52       426\n",
            "         Family       0.00      0.00      0.00        50\n",
            "        Fantasy       0.00      0.00      0.00        44\n",
            "        History       0.00      0.00      0.00        11\n",
            "         Horror       0.58      0.49      0.53       167\n",
            "          Music       0.00      0.00      0.00        16\n",
            "        Mystery       0.00      0.00      0.00        29\n",
            "        Romance       0.00      0.00      0.00        66\n",
            "Science Fiction       0.13      0.04      0.06        56\n",
            "       TV Movie       0.00      0.00      0.00         1\n",
            "       Thriller       0.60      0.03      0.05       105\n",
            "            War       0.00      0.00      0.00        10\n",
            "        Western       0.00      0.00      0.00        19\n",
            "\n",
            "       accuracy                           0.43      1996\n",
            "      macro avg       0.20      0.15      0.14      1996\n",
            "   weighted avg       0.38      0.43      0.36      1996\n",
            "\n",
            "\n",
            "============================================================\n",
            "\n",
            "Treinando modelo: Support Vector Machine\n"
          ]
        },
        {
          "output_type": "stream",
          "name": "stderr",
          "text": [
            "/usr/local/lib/python3.11/dist-packages/sklearn/metrics/_classification.py:1565: UndefinedMetricWarning: Precision is ill-defined and being set to 0.0 in labels with no predicted samples. Use `zero_division` parameter to control this behavior.\n",
            "  _warn_prf(average, modifier, f\"{metric.capitalize()} is\", len(result))\n",
            "/usr/local/lib/python3.11/dist-packages/sklearn/metrics/_classification.py:1565: UndefinedMetricWarning: Precision is ill-defined and being set to 0.0 in labels with no predicted samples. Use `zero_division` parameter to control this behavior.\n",
            "  _warn_prf(average, modifier, f\"{metric.capitalize()} is\", len(result))\n",
            "/usr/local/lib/python3.11/dist-packages/sklearn/metrics/_classification.py:1565: UndefinedMetricWarning: Precision is ill-defined and being set to 0.0 in labels with no predicted samples. Use `zero_division` parameter to control this behavior.\n",
            "  _warn_prf(average, modifier, f\"{metric.capitalize()} is\", len(result))\n"
          ]
        },
        {
          "output_type": "stream",
          "name": "stdout",
          "text": [
            "Support Vector Machine - Acurácia: 0.42\n",
            "                 precision    recall  f1-score   support\n",
            "\n",
            "         Action       0.45      0.53      0.49       287\n",
            "      Adventure       0.29      0.22      0.25       103\n",
            "      Animation       0.38      0.26      0.31       127\n",
            "         Comedy       0.47      0.63      0.53       395\n",
            "          Crime       0.15      0.10      0.12        84\n",
            "          Drama       0.45      0.59      0.51       426\n",
            "         Family       0.37      0.14      0.20        50\n",
            "        Fantasy       0.17      0.05      0.07        44\n",
            "        History       0.00      0.00      0.00        11\n",
            "         Horror       0.47      0.52      0.49       167\n",
            "          Music       0.33      0.06      0.11        16\n",
            "        Mystery       0.00      0.00      0.00        29\n",
            "        Romance       0.21      0.06      0.09        66\n",
            "Science Fiction       0.25      0.23      0.24        56\n",
            "       TV Movie       0.00      0.00      0.00         1\n",
            "       Thriller       0.24      0.11      0.15       105\n",
            "            War       0.00      0.00      0.00        10\n",
            "        Western       0.40      0.11      0.17        19\n",
            "\n",
            "       accuracy                           0.42      1996\n",
            "      macro avg       0.26      0.20      0.21      1996\n",
            "   weighted avg       0.38      0.42      0.39      1996\n",
            "\n",
            "\n",
            "============================================================\n",
            "\n",
            "Treinando modelo: Random Forest\n"
          ]
        },
        {
          "output_type": "stream",
          "name": "stderr",
          "text": [
            "/usr/local/lib/python3.11/dist-packages/sklearn/metrics/_classification.py:1565: UndefinedMetricWarning: Precision is ill-defined and being set to 0.0 in labels with no predicted samples. Use `zero_division` parameter to control this behavior.\n",
            "  _warn_prf(average, modifier, f\"{metric.capitalize()} is\", len(result))\n",
            "/usr/local/lib/python3.11/dist-packages/sklearn/metrics/_classification.py:1565: UndefinedMetricWarning: Precision is ill-defined and being set to 0.0 in labels with no predicted samples. Use `zero_division` parameter to control this behavior.\n",
            "  _warn_prf(average, modifier, f\"{metric.capitalize()} is\", len(result))\n",
            "/usr/local/lib/python3.11/dist-packages/sklearn/metrics/_classification.py:1565: UndefinedMetricWarning: Precision is ill-defined and being set to 0.0 in labels with no predicted samples. Use `zero_division` parameter to control this behavior.\n",
            "  _warn_prf(average, modifier, f\"{metric.capitalize()} is\", len(result))\n"
          ]
        },
        {
          "output_type": "stream",
          "name": "stdout",
          "text": [
            "Random Forest - Acurácia: 0.36\n",
            "                 precision    recall  f1-score   support\n",
            "\n",
            "         Action       0.39      0.50      0.44       287\n",
            "      Adventure       0.25      0.01      0.02       103\n",
            "      Animation       0.45      0.08      0.13       127\n",
            "         Comedy       0.36      0.55      0.43       395\n",
            "          Crime       0.25      0.02      0.04        84\n",
            "          Drama       0.33      0.65      0.44       426\n",
            "         Family       1.00      0.02      0.04        50\n",
            "        Fantasy       0.00      0.00      0.00        44\n",
            "        History       0.00      0.00      0.00        11\n",
            "         Horror       0.47      0.40      0.43       167\n",
            "          Music       0.00      0.00      0.00        16\n",
            "        Mystery       0.00      0.00      0.00        29\n",
            "        Romance       0.00      0.00      0.00        66\n",
            "Science Fiction       0.15      0.04      0.06        56\n",
            "       TV Movie       0.00      0.00      0.00         1\n",
            "       Thriller       0.00      0.00      0.00       105\n",
            "            War       0.00      0.00      0.00        10\n",
            "        Western       0.00      0.00      0.00        19\n",
            "\n",
            "       accuracy                           0.36      1996\n",
            "      macro avg       0.20      0.13      0.11      1996\n",
            "   weighted avg       0.32      0.36      0.29      1996\n",
            "\n",
            "\n",
            "============================================================\n",
            "\n"
          ]
        },
        {
          "output_type": "stream",
          "name": "stderr",
          "text": [
            "/usr/local/lib/python3.11/dist-packages/sklearn/metrics/_classification.py:1565: UndefinedMetricWarning: Precision is ill-defined and being set to 0.0 in labels with no predicted samples. Use `zero_division` parameter to control this behavior.\n",
            "  _warn_prf(average, modifier, f\"{metric.capitalize()} is\", len(result))\n",
            "/usr/local/lib/python3.11/dist-packages/sklearn/metrics/_classification.py:1565: UndefinedMetricWarning: Precision is ill-defined and being set to 0.0 in labels with no predicted samples. Use `zero_division` parameter to control this behavior.\n",
            "  _warn_prf(average, modifier, f\"{metric.capitalize()} is\", len(result))\n",
            "/usr/local/lib/python3.11/dist-packages/sklearn/metrics/_classification.py:1565: UndefinedMetricWarning: Precision is ill-defined and being set to 0.0 in labels with no predicted samples. Use `zero_division` parameter to control this behavior.\n",
            "  _warn_prf(average, modifier, f\"{metric.capitalize()} is\", len(result))\n"
          ]
        }
      ]
    },
    {
      "cell_type": "markdown",
      "source": [
        "Logistic Regression foi o melhor desempenho geral, com acurácia de 43%.\n",
        "\n",
        "O Support Vector Machine (SVM) ficou muito próximo, com 42%, pode indicar que modelos lineares têm boa capacidade de generalização nesse problema.\n",
        "\n",
        "Naive Bayes e Random Forest foram os piores com 36%, possivelmente devido à natureza do texto e à alta dimensionalidade do espaço vetorial criado pelo TF-IDF.\n",
        "\n",
        "Macro avg (média entre classes) foram baixas para todos os modelos, o que sugere desequilíbrio de classes (alguns gêneros aparecem muito mais que outros).\n",
        "\n",
        "As médias weighted avg também mostram que os modelos estão inclinados a prever os gêneros mais frequentes, prejudicando os menos comuns.\n",
        "\n",
        "Possíveis motivos para dificuldade me prever gÊnero de filmes a partir do resumo:\n",
        "A sobreposição semântica entre gêneros (ex: Drama, Romance, Thriller);\n",
        "Vocabulário genérico utilizados nos resumos;\n",
        "A possível ambiguidade ou múltiplos gêneros representados por um único texto;"
      ],
      "metadata": {
        "id": "Lg7VWvzY4d4w"
      }
    }
  ]
}