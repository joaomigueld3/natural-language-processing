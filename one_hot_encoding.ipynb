{
  "nbformat": 4,
  "nbformat_minor": 0,
  "metadata": {
    "colab": {
      "provenance": [],
      "authorship_tag": "ABX9TyOwQW3ObIj/au2SAIMnO8to",
      "include_colab_link": true
    },
    "kernelspec": {
      "name": "python3",
      "display_name": "Python 3"
    },
    "language_info": {
      "name": "python"
    }
  },
  "cells": [
    {
      "cell_type": "markdown",
      "metadata": {
        "id": "view-in-github",
        "colab_type": "text"
      },
      "source": [
        "<a href=\"https://colab.research.google.com/github/joaomigueld3/natural-language-processing/blob/main/one_hot_encoding.ipynb\" target=\"_parent\"><img src=\"https://colab.research.google.com/assets/colab-badge.svg\" alt=\"Open In Colab\"/></a>"
      ]
    },
    {
      "cell_type": "markdown",
      "source": [
        "###scikit-learn\n",
        "É projetada especificamente para aprendizado de máquina, proporcionando uma integração suave com uma variedade de modelos e técnicas de análise de dados. O One-Hot Encoder de scikit-learn se integra bem com pipelines de processamento e modelagem."
      ],
      "metadata": {
        "id": "TEbUIjtYmt_A"
      }
    },
    {
      "cell_type": "code",
      "execution_count": 1,
      "metadata": {
        "id": "TcQ-YPmjmMD1",
        "colab": {
          "base_uri": "https://localhost:8080/"
        },
        "outputId": "cdd6b3dc-99c0-4a84-d9ec-938e0b539c83",
        "collapsed": true
      },
      "outputs": [
        {
          "output_type": "stream",
          "name": "stdout",
          "text": [
            "Requirement already satisfied: scikit-learn in /usr/local/lib/python3.11/dist-packages (1.6.1)\n",
            "Requirement already satisfied: numpy>=1.19.5 in /usr/local/lib/python3.11/dist-packages (from scikit-learn) (2.0.2)\n",
            "Requirement already satisfied: scipy>=1.6.0 in /usr/local/lib/python3.11/dist-packages (from scikit-learn) (1.14.1)\n",
            "Requirement already satisfied: joblib>=1.2.0 in /usr/local/lib/python3.11/dist-packages (from scikit-learn) (1.4.2)\n",
            "Requirement already satisfied: threadpoolctl>=3.1.0 in /usr/local/lib/python3.11/dist-packages (from scikit-learn) (3.6.0)\n"
          ]
        }
      ],
      "source": [
        "pip install scikit-learn"
      ]
    },
    {
      "cell_type": "code",
      "source": [
        "from sklearn.preprocessing import OneHotEncoder\n",
        "\n",
        "# Lista de palavras para codificar\n",
        "words = ['tubarão', 'baleia', 'deserto', 'golfinho', 'mamífero', 'peixe']\n",
        "\n",
        "# Reshape words to fit the encoder\n",
        "words = [[word] for word in words]\n",
        "\n",
        "# Criar o objeto OneHotEncoder\n",
        "encoder = OneHotEncoder(sparse_output=False)\n",
        "\n",
        "# Ajustar e transformar as palavras em vetores one-hot\n",
        "one_hot_encoded = encoder.fit_transform(words)\n",
        "\n",
        "# Mostrar o resultado\n",
        "print(\"One-Hot Encoded vectors:\")\n",
        "print(one_hot_encoded)\n",
        "\n",
        "# Mostrar as categorias (palavras únicas identificadas pelo encoder)\n",
        "print(\"\\nCategories:\")\n",
        "print(encoder.categories_)"
      ],
      "metadata": {
        "colab": {
          "base_uri": "https://localhost:8080/"
        },
        "id": "nJ7ueu6Mm3vg",
        "outputId": "284adef6-8015-4bbc-b6b3-0c46d61a5b68",
        "collapsed": true
      },
      "execution_count": 2,
      "outputs": [
        {
          "output_type": "stream",
          "name": "stdout",
          "text": [
            "One-Hot Encoded vectors:\n",
            "[[0. 0. 0. 0. 0. 1.]\n",
            " [1. 0. 0. 0. 0. 0.]\n",
            " [0. 1. 0. 0. 0. 0.]\n",
            " [0. 0. 1. 0. 0. 0.]\n",
            " [0. 0. 0. 1. 0. 0.]\n",
            " [0. 0. 0. 0. 1. 0.]]\n",
            "\n",
            "Categories:\n",
            "[array(['baleia', 'deserto', 'golfinho', 'mamífero', 'peixe', 'tubarão'],\n",
            "      dtype=object)]\n"
          ]
        }
      ]
    }
  ]
}