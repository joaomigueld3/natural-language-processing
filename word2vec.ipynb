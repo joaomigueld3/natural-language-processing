{
  "nbformat": 4,
  "nbformat_minor": 0,
  "metadata": {
    "colab": {
      "provenance": [],
      "authorship_tag": "ABX9TyNExDSt1a+oQQP7bYuMOP+C",
      "include_colab_link": true
    },
    "kernelspec": {
      "name": "python3",
      "display_name": "Python 3"
    },
    "language_info": {
      "name": "python"
    }
  },
  "cells": [
    {
      "cell_type": "markdown",
      "metadata": {
        "id": "view-in-github",
        "colab_type": "text"
      },
      "source": [
        "<a href=\"https://colab.research.google.com/github/joaomigueld3/natural-language-processing/blob/main/word2vec.ipynb\" target=\"_parent\"><img src=\"https://colab.research.google.com/assets/colab-badge.svg\" alt=\"Open In Colab\"/></a>"
      ]
    },
    {
      "cell_type": "code",
      "execution_count": 1,
      "metadata": {
        "id": "GmKbOvTO7HRC",
        "colab": {
          "base_uri": "https://localhost:8080/"
        },
        "outputId": "5bed0531-df34-4c4f-ab1c-3d5e56108eda"
      },
      "outputs": [
        {
          "output_type": "stream",
          "name": "stdout",
          "text": [
            "Collecting gensim\n",
            "  Downloading gensim-4.3.3-cp311-cp311-manylinux_2_17_x86_64.manylinux2014_x86_64.whl.metadata (8.1 kB)\n",
            "Collecting numpy<2.0,>=1.18.5 (from gensim)\n",
            "  Downloading numpy-1.26.4-cp311-cp311-manylinux_2_17_x86_64.manylinux2014_x86_64.whl.metadata (61 kB)\n",
            "\u001b[2K     \u001b[90m━━━━━━━━━━━━━━━━━━━━━━━━━━━━━━━━━━━━━━━━\u001b[0m \u001b[32m61.0/61.0 kB\u001b[0m \u001b[31m1.2 MB/s\u001b[0m eta \u001b[36m0:00:00\u001b[0m\n",
            "\u001b[?25hCollecting scipy<1.14.0,>=1.7.0 (from gensim)\n",
            "  Downloading scipy-1.13.1-cp311-cp311-manylinux_2_17_x86_64.manylinux2014_x86_64.whl.metadata (60 kB)\n",
            "\u001b[2K     \u001b[90m━━━━━━━━━━━━━━━━━━━━━━━━━━━━━━━━━━━━━━━━\u001b[0m \u001b[32m60.6/60.6 kB\u001b[0m \u001b[31m1.7 MB/s\u001b[0m eta \u001b[36m0:00:00\u001b[0m\n",
            "\u001b[?25hRequirement already satisfied: smart-open>=1.8.1 in /usr/local/lib/python3.11/dist-packages (from gensim) (7.1.0)\n",
            "Requirement already satisfied: wrapt in /usr/local/lib/python3.11/dist-packages (from smart-open>=1.8.1->gensim) (1.17.2)\n",
            "Downloading gensim-4.3.3-cp311-cp311-manylinux_2_17_x86_64.manylinux2014_x86_64.whl (26.7 MB)\n",
            "\u001b[2K   \u001b[90m━━━━━━━━━━━━━━━━━━━━━━━━━━━━━━━━━━━━━━━━\u001b[0m \u001b[32m26.7/26.7 MB\u001b[0m \u001b[31m48.2 MB/s\u001b[0m eta \u001b[36m0:00:00\u001b[0m\n",
            "\u001b[?25hDownloading numpy-1.26.4-cp311-cp311-manylinux_2_17_x86_64.manylinux2014_x86_64.whl (18.3 MB)\n",
            "\u001b[2K   \u001b[90m━━━━━━━━━━━━━━━━━━━━━━━━━━━━━━━━━━━━━━━━\u001b[0m \u001b[32m18.3/18.3 MB\u001b[0m \u001b[31m62.1 MB/s\u001b[0m eta \u001b[36m0:00:00\u001b[0m\n",
            "\u001b[?25hDownloading scipy-1.13.1-cp311-cp311-manylinux_2_17_x86_64.manylinux2014_x86_64.whl (38.6 MB)\n",
            "\u001b[2K   \u001b[90m━━━━━━━━━━━━━━━━━━━━━━━━━━━━━━━━━━━━━━━━\u001b[0m \u001b[32m38.6/38.6 MB\u001b[0m \u001b[31m13.9 MB/s\u001b[0m eta \u001b[36m0:00:00\u001b[0m\n",
            "\u001b[?25hInstalling collected packages: numpy, scipy, gensim\n",
            "  Attempting uninstall: numpy\n",
            "    Found existing installation: numpy 2.0.2\n",
            "    Uninstalling numpy-2.0.2:\n",
            "      Successfully uninstalled numpy-2.0.2\n",
            "  Attempting uninstall: scipy\n",
            "    Found existing installation: scipy 1.14.1\n",
            "    Uninstalling scipy-1.14.1:\n",
            "      Successfully uninstalled scipy-1.14.1\n",
            "Successfully installed gensim-4.3.3 numpy-1.26.4 scipy-1.13.1\n"
          ]
        }
      ],
      "source": [
        "# Gensim é conhecido por sua implementação eficiente do modelo Word2Vec.\n",
        "# Ele permite treinar modelos de representação de palavras usando grandes\n",
        "# conjuntos de dados textuais.\n",
        "!pip install gensim"
      ]
    },
    {
      "cell_type": "code",
      "source": [
        "#Atualiza numpy e gensim sem cache (força download do mais recente)\n",
        "#Reinicia automaticamente o ambiente do Colab (necessário para atualizar dependências)\n",
        "!pip install --upgrade numpy gensim --no-cache-dir\n",
        "import os\n",
        "os.kill(os.getpid(), 9)"
      ],
      "metadata": {
        "colab": {
          "base_uri": "https://localhost:8080/"
        },
        "collapsed": true,
        "id": "z3uDqv4u1xYl",
        "outputId": "cae1ed58-16b5-470d-dd80-efbcf2411aae"
      },
      "execution_count": null,
      "outputs": [
        {
          "output_type": "stream",
          "name": "stdout",
          "text": [
            "Requirement already satisfied: numpy in /usr/local/lib/python3.11/dist-packages (1.26.4)\n",
            "Collecting numpy\n",
            "  Downloading numpy-2.2.4-cp311-cp311-manylinux_2_17_x86_64.manylinux2014_x86_64.whl.metadata (62 kB)\n",
            "\u001b[2K     \u001b[90m━━━━━━━━━━━━━━━━━━━━━━━━━━━━━━━━━━━━━━━━\u001b[0m \u001b[32m62.0/62.0 kB\u001b[0m \u001b[31m3.6 MB/s\u001b[0m eta \u001b[36m0:00:00\u001b[0m\n",
            "\u001b[?25hRequirement already satisfied: gensim in /usr/local/lib/python3.11/dist-packages (4.3.3)\n",
            "Requirement already satisfied: scipy<1.14.0,>=1.7.0 in /usr/local/lib/python3.11/dist-packages (from gensim) (1.13.1)\n",
            "Requirement already satisfied: smart-open>=1.8.1 in /usr/local/lib/python3.11/dist-packages (from gensim) (7.1.0)\n",
            "Requirement already satisfied: wrapt in /usr/local/lib/python3.11/dist-packages (from smart-open>=1.8.1->gensim) (1.17.2)\n"
          ]
        }
      ]
    },
    {
      "cell_type": "markdown",
      "source": [
        "### Repositório de Vetores Treinados"
      ],
      "metadata": {
        "id": "FPa8yhz57Zs1"
      }
    },
    {
      "cell_type": "markdown",
      "source": [
        "Os repositórios trazem vetores gerados a partir de um grande córpus do português do Brasil e português europeu, de fontes e gêneros variados."
      ],
      "metadata": {
        "id": "hvSq63dQ8Gka"
      }
    },
    {
      "cell_type": "code",
      "source": [
        "import numpy as np\n",
        "import nltk\n",
        "nltk.download('punkt')\n",
        "from gensim.models import Word2Vec\n",
        "from nltk.tokenize import word_tokenize\n",
        "nltk.download('punkt')\n",
        "\n",
        "# Corpus de texto\n",
        "#corpus = [\n",
        "#    \"No meio do caminho tinha uma pedra\",\n",
        "#    \"Tinha uma pedra no meio do caminho\",\n",
        "#    \"Tinha uma pedra no meio do caminho\",\n",
        "#    \"Tinha uma pedra\",\n",
        "#    \"Nunca me esquecerei desse acontecimento\",\n",
        "#    \"Na vida de minhas retinas tão fatigadas\",\n",
        "#    \"Nunca me esquecerei\",\n",
        "#    \"Que no meio do caminho tinha uma pedra\",\n",
        "#    \"Tinha uma pedra no meio do caminho\",\n",
        "#    \"No meio do caminho tinha uma pedra\"\n",
        "#]\n",
        "\n",
        "corpus = [\n",
        "    \"A sustentabilidade é um tema central para o futuro do planeta.\",\n",
        "    \"Empresas têm investido cada vez mais em energia renovável para reduzir o impacto ambiental.\",\n",
        "    \"O consumo consciente pode mudar o mundo.\",\n",
        "    \"Governos ao redor do mundo discutem políticas para mitigar os efeitos das mudanças climáticas.\",\n",
        "    \"A preservação da biodiversidade é fundamental para o equilíbrio do ecossistema.\",\n",
        "    \"A reciclagem é uma das formas mais simples de ajudar o meio ambiente.\",\n",
        "    \"Projetos de energia solar têm crescido exponencialmente nos últimos anos.\",\n",
        "    \"É urgente a transição para uma economia de baixo carbono.\",\n",
        "    \"As ações para preservar os oceanos são essenciais para combater a poluição por plástico.\",\n",
        "    \"A educação ambiental é a chave para conscientizar a sociedade sobre a importância da sustentabilidade.\"\n",
        "]\n",
        "\n",
        "# Tokenização das sentenças\n",
        "tokenized_corpus = [word_tokenize(sentence.lower()) for sentence in corpus]\n",
        "\n",
        "# Treinamento do modelo Word2Vec\n",
        "# sentences: A lista de sentenças tokenizadas.\n",
        "# vector_size: A dimensão dos vetores de palavra.\n",
        "# window: O número máximo de palavras entre a palavra-alvo e as palavras ao seu redor.\n",
        "# sg=0 CBOW, sg=1 SKIP-GRAM\n",
        "# min_count: Ignora todas as palavras com frequência total inferior a esse valor.\n",
        "# workers: O número de threads de treinamento paralelo para acelerar o treinamento.\n",
        "model = Word2Vec(sentences=tokenized_corpus, vector_size=3, window=5, sg=0, min_count=1, workers=4)\n",
        "\n",
        "# Salvando o modelo\n",
        "model.save(\"word2vec_model\")\n",
        "\n",
        "#Treinando o modelo\n",
        "# Treinamento do modelo\n",
        "model.train(tokenized_corpus, total_examples=len(tokenized_corpus), epochs=10)\n",
        "\n",
        "\n"
      ],
      "metadata": {
        "id": "47HlfZZZ8Pps"
      },
      "execution_count": null,
      "outputs": []
    },
    {
      "cell_type": "code",
      "source": [
        "# Exemplo de como obter o vetor de uma palavra\n",
        "sustentabilidade = model.wv['sustentabilidade']\n",
        "mundo = model.wv['mundo']\n",
        "energia = model.wv['energia']\n",
        "\n",
        "print(\"Vetor da palavra 'sustentabilidade':\", sustentabilidade)\n",
        "\n",
        "def dist_euclidiana(u,v):\n",
        "  return np.linalg.norm(u - v)\n",
        "\n",
        "#Imprimindo os caminhos\n",
        "d1 = dist_euclidiana(sustentabilidade,mundo)\n",
        "d2 = dist_euclidiana(mundo,sustentabilidade)\n",
        "d3 = dist_euclidiana(sustentabilidade,energia)\n",
        "d4 = dist_euclidiana(mundo,energia)\n",
        "\n",
        "print(\"Distância entre sustentabilidade e mundo \", d1)\n",
        "print(\"Distância entre mundo e sustentabilidade \", d2)\n",
        "print(\"Distância entre sustentabilidade e energia \", d3)\n",
        "print(\"Distância entre mundo e energia \", d4)"
      ],
      "metadata": {
        "id": "1LHmbPltemcT"
      },
      "execution_count": null,
      "outputs": []
    },
    {
      "cell_type": "code",
      "source": [
        "def similaridade_cossenos(u,v):\n",
        "  return np.dot(u,v)/(np.linalg.norm(u)*np.linalg.norm(v))\n",
        "\n",
        "s1 = similaridade_cossenos(sustentabilidade,mundo)\n",
        "s2 = similaridade_cossenos(mundo,sustentabilidade)\n",
        "s3 = similaridade_cossenos(sustentabilidade,energia)\n",
        "s4 = similaridade_cossenos(mundo,energia)\n",
        "\n",
        "print(\"Distância entre sustentabilidade e mundo \", s1)\n",
        "print(\"Distância entre mundo e sustentabilidade \", s2)\n",
        "print(\"Distância entre sustentabilidade e energia \", s3)\n",
        "print(\"Distância entre mundo e energia \", s4)\n"
      ],
      "metadata": {
        "id": "vLiYw-ZFm8Ur"
      },
      "execution_count": null,
      "outputs": []
    },
    {
      "cell_type": "code",
      "source": [
        "#Analogia\n",
        "\n",
        "# Exemplo\n",
        "# x1= mulher, x2=homem, y1=rei, y2 = ?\n",
        "# Mulher - Homem = y2 - Rei\n",
        "# y2 = Mulher - Homem + Rei\n",
        "# positives: Mulher e Rei\n",
        "# Negative: Homem\n",
        "def analogia(x1,x2,y1):\n",
        "  y2 = model.wv.most_similar(positive = [x1, y1], negative = [x2])\n",
        "  return y2\n",
        "\n",
        "print(analogia(mundo, sustentabilidade, energia))\n",
        "\n",
        "# Usando wv.most_similar\n",
        "# No caso do CBOW, você obtém palavras similares à palavra-chave, e no caso do Skip-gram,\n",
        "# você obtém palavras contextuais para a palavra-chave fornecida.\n",
        "similar_words = model.wv.most_similar(energia, topn=15)\n",
        "print(similar_words)"
      ],
      "metadata": {
        "colab": {
          "base_uri": "https://localhost:8080/"
        },
        "id": "cVfN4JzDqrh8",
        "outputId": "65e99cb9-e3f5-43f0-e8ca-5ee9f7193de9"
      },
      "execution_count": null,
      "outputs": [
        {
          "output_type": "stream",
          "name": "stdout",
          "text": [
            "[('mundo', 0.9682457447052002), ('exponencialmente', 0.8894082307815552), ('crescido', 0.8879284858703613), ('anos', 0.8688837885856628), ('das', 0.8634596467018127), ('economia', 0.8627527356147766), ('sobre', 0.8446546196937561), ('consciente', 0.7998927235603333), ('últimos', 0.7663198709487915), ('as', 0.7554173469543457)]\n",
            "[('energia', 0.9999999403953552), ('do', 0.9702626466751099), ('poluição', 0.9681754112243652), ('ambiente', 0.9654175639152527), ('tema', 0.9628732204437256), ('essenciais', 0.94303959608078), ('urgente', 0.8962976932525635), ('mudanças', 0.8893173336982727), ('reduzir', 0.8885645866394043), ('as', 0.8789161443710327), ('ao', 0.8566858172416687), ('consciente', 0.8508978486061096), ('sustentabilidade', 0.8504075407981873), ('mudar', 0.8313300013542175), ('efeitos', 0.7987024784088135)]\n"
          ]
        }
      ]
    }
  ]
}